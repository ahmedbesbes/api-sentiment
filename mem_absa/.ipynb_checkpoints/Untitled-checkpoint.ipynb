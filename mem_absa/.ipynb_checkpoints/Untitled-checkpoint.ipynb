{
 "cells": [
  {
   "cell_type": "code",
   "execution_count": 2,
   "metadata": {
    "collapsed": true
   },
   "outputs": [],
   "source": [
    "import spacy\n",
    "fr_nlp = spacy.load(\"fr\")"
   ]
  },
  {
   "cell_type": "code",
   "execution_count": 17,
   "metadata": {
    "collapsed": true
   },
   "outputs": [],
   "source": [
    "sptoks=fr_nlp('Un service passable .. Des plats surcuits, des sauces figées dans leur pot (on se demande si elles n étaient pas sur d autres tables avant de nous être servies) , le prix est correct mais le goût n est pas au rendez vous ... très déçu par ce resto')"
   ]
  },
  {
   "cell_type": "code",
   "execution_count": 18,
   "metadata": {},
   "outputs": [
    {
     "name": "stdout",
     "output_type": "stream",
     "text": [
      "Un   0   Un   0\n",
      "service   3   service   1\n",
      "passable   11   passable   2\n",
      "..   20   ..   3\n",
      "Des   23   Des   4\n",
      "plats   27   plats   5\n",
      "surcuits   33   surcuits   6\n",
      ",   41   ,   7\n",
      "des   43   des   8\n",
      "sauces   47   sauces   9\n",
      "figées   54   figées   10\n",
      "dans   61   dans   11\n",
      "leur   66   leur   12\n",
      "pot   71   pot   13\n",
      "(   75   (   14\n",
      "on   76   on   15\n",
      "se   79   se   16\n",
      "demande   82   demande   17\n",
      "si   90   si   18\n",
      "elles   93   elles   19\n",
      "n   99   n   20\n",
      "étaient   101   étaient   21\n",
      "pas   109   pas   22\n",
      "sur   113   sur   23\n",
      "d   117   d   24\n",
      "autres   119   autres   25\n",
      "tables   126   tables   26\n",
      "avant   133   avant   27\n",
      "de   139   de   28\n",
      "nous   142   nous   29\n",
      "être   147   être   30\n",
      "servies   152   servies   31\n",
      ")   159   )   32\n",
      ",   161   ,   33\n",
      "le   163   le   34\n",
      "prix   166   prix   35\n",
      "est   171   est   36\n",
      "correct   175   correct   37\n",
      "mais   183   mais   38\n",
      "le   188   le   39\n",
      "goût   191   goût   40\n",
      "n   196   n   41\n",
      "est   198   est   42\n",
      "pas   202   pas   43\n",
      "au   206   au   44\n",
      "rendez   209   rendez   45\n",
      "vous   216   vous   46\n",
      "...   221   ...   47\n",
      "très   225   très   48\n",
      "déçu   230   déçu   49\n",
      "par   235   par   50\n",
      "ce   239   ce   51\n",
      "resto   242   resto   52\n"
     ]
    }
   ],
   "source": [
    "for sptok in sptoks:\n",
    "    print(sptok,\" \",sptok.idx,\" \",sptok.text,\" \",sptok.i)"
   ]
  },
  {
   "cell_type": "code",
   "execution_count": 13,
   "metadata": {
    "collapsed": true
   },
   "outputs": [],
   "source": [
    "doc=fr_nlp('je cherche un restaurant gastrnomique à Rennes')\n",
    "for ent in doc.ents:\n",
    "    print(ent.text, ent.start_char, ent.end_char, ent.label_)"
   ]
  },
  {
   "cell_type": "code",
   "execution_count": 19,
   "metadata": {},
   "outputs": [
    {
     "ename": "ImportError",
     "evalue": "cannot import name 'displacy'",
     "traceback": [
      "\u001b[0;31m---------------------------------------------------------------------------\u001b[0m",
      "\u001b[0;31mImportError\u001b[0m                               Traceback (most recent call last)",
      "\u001b[0;32m<ipython-input-19-03df12abfa88>\u001b[0m in \u001b[0;36m<module>\u001b[0;34m()\u001b[0m\n\u001b[0;32m----> 1\u001b[0;31m \u001b[0;32mfrom\u001b[0m \u001b[0mspacy\u001b[0m \u001b[0;32mimport\u001b[0m \u001b[0mdisplacy\u001b[0m\u001b[0;34m\u001b[0m\u001b[0m\n\u001b[0m\u001b[1;32m      2\u001b[0m \u001b[0;34m\u001b[0m\u001b[0m\n\u001b[1;32m      3\u001b[0m \u001b[0;34m\u001b[0m\u001b[0m\n\u001b[1;32m      4\u001b[0m \u001b[0mdoc\u001b[0m \u001b[0;34m=\u001b[0m \u001b[0mnlp\u001b[0m\u001b[0;34m(\u001b[0m\u001b[0;34mu'voici une phrase'\u001b[0m\u001b[0;34m)\u001b[0m\u001b[0;34m\u001b[0m\u001b[0m\n\u001b[1;32m      5\u001b[0m \u001b[0mdisplacy\u001b[0m\u001b[0;34m.\u001b[0m\u001b[0mserve\u001b[0m\u001b[0;34m(\u001b[0m\u001b[0mdoc\u001b[0m\u001b[0;34m,\u001b[0m \u001b[0mstyle\u001b[0m\u001b[0;34m=\u001b[0m\u001b[0;34m'dep'\u001b[0m\u001b[0;34m)\u001b[0m\u001b[0;34m\u001b[0m\u001b[0m\n",
      "\u001b[0;31mImportError\u001b[0m: cannot import name 'displacy'"
     ],
     "output_type": "error"
    }
   ],
   "source": [
    "from spacy import displacy\n",
    "\n",
    "\n",
    "doc = nlp(\"A ne pas rater si vous êtes a la recherche de saveurs sans se casser le porte-monnaie!\")\n",
    "displacy.serve(doc, style='dep')"
   ]
  },
  {
   "cell_type": "code",
   "execution_count": 139,
   "metadata": {},
   "outputs": [],
   "source": [
    "sentence=\"La jeune demoiselle blonde \"\n",
    "word=\"demoiselle\""
   ]
  },
  {
   "cell_type": "code",
   "execution_count": 140,
   "metadata": {},
   "outputs": [
    {
     "name": "stdout",
     "output_type": "stream",
     "text": [
      "9\n",
      "19\n"
     ]
    }
   ],
   "source": [
    "start_index = sentence.find(word)\n",
    "print(start_index)\n",
    "end_index = start_index + len(word)\n",
    "print(end_index)"
   ]
  },
  {
   "cell_type": "code",
   "execution_count": 40,
   "metadata": {},
   "outputs": [],
   "source": [
    "import spacy\n",
    "fr_nlp = spacy.load(\"fr\")"
   ]
  },
  {
   "cell_type": "code",
   "execution_count": 150,
   "metadata": {},
   "outputs": [
    {
     "name": "stdout",
     "output_type": "stream",
     "text": [
      "A\n",
      "ne\n",
      "pas\n",
      "rater\n",
      "si\n",
      "vous\n",
      "êtes\n",
      "a\n",
      "la\n",
      "recherche\n",
      "de\n",
      "saveurs\n",
      "sans\n",
      "se\n",
      "casser\n",
      "le\n",
      "porte-monnaie\n",
      "!\n"
     ]
    }
   ],
   "source": [
    "tokens=fr_nlp(\"A ne pas rater si vous êtes a la recherche de saveurs sans se casser le porte-monnaie!\")\n",
    "for token in tokens:\n",
    "    print(token)"
   ]
  },
  {
   "cell_type": "code",
   "execution_count": 35,
   "metadata": {},
   "outputs": [
    {
     "data": {
      "text/plain": [
       "une belle expérience pour les papilles : nous avions commandé un millefeuille (sans alcool) et un fraisier. Étant difficile sur le millefeuille, j'avoue avoir apprécié la qualité de la crème et de la pâte feuilletée. D'après les témoignages le fraisier était extraordinaire. un seul souhait : continuez comme ça !!"
      ]
     },
     "execution_count": 35,
     "metadata": {},
     "output_type": "execute_result"
    }
   ],
   "source": [
    "fr_nlp('une belle expérience pour les papilles : nous avions commandé un millefeuille (sans alcool) et un fraisier. Étant difficile sur le millefeuille, j\\'avoue avoir apprécié la qualité de la crème et de la pâte feuilletée. D\\'après les témoignages le fraisier était extraordinaire. un seul souhait : continuez comme ça !!')"
   ]
  },
  {
   "cell_type": "code",
   "execution_count": 33,
   "metadata": {},
   "outputs": [
    {
     "name": "stdout",
     "output_type": "stream",
     "text": [
      "sur le millefeuille, avoir apprécié la qualité de la les témoignages le fraisier était extraordinaire.\n"
     ]
    }
   ],
   "source": [
    "print(text)"
   ]
  },
  {
   "cell_type": "code",
   "execution_count": 3,
   "metadata": {},
   "outputs": [],
   "source": [
    "from pyfasttext import FastText\n",
    "wiki_model = FastText()\n",
    "wiki_model.load_model('model_pyfasttext100.bin')"
   ]
  },
  {
   "cell_type": "code",
   "execution_count": 118,
   "metadata": {},
   "outputs": [
    {
     "name": "stdout",
     "output_type": "stream",
     "text": [
      "array('f', [0.0, 0.0, 0.0, 0.0, 0.0, 0.0, 0.0, 0.0, 0.0, 0.0, 0.0, 0.0, 0.0, 0.0, 0.0, 0.0, 0.0, 0.0, 0.0, 0.0, 0.0, 0.0, 0.0, 0.0, 0.0, 0.0, 0.0, 0.0, 0.0, 0.0, 0.0, 0.0, 0.0, 0.0, 0.0, 0.0, 0.0, 0.0, 0.0, 0.0, 0.0, 0.0, 0.0, 0.0, 0.0, 0.0, 0.0, 0.0, 0.0, 0.0, 0.0, 0.0, 0.0, 0.0, 0.0, 0.0, 0.0, 0.0, 0.0, 0.0, 0.0, 0.0, 0.0, 0.0, 0.0, 0.0, 0.0, 0.0, 0.0, 0.0, 0.0, 0.0, 0.0, 0.0, 0.0, 0.0, 0.0, 0.0, 0.0, 0.0, 0.0, 0.0, 0.0, 0.0, 0.0, 0.0, 0.0, 0.0, 0.0, 0.0, 0.0, 0.0, 0.0, 0.0, 0.0, 0.0, 0.0, 0.0, 0.0, 0.0])\n"
     ]
    }
   ],
   "source": [
    "print(wiki_model[''])"
   ]
  },
  {
   "cell_type": "code",
   "execution_count": 157,
   "metadata": {},
   "outputs": [
    {
     "data": {
      "text/plain": [
       "[('mythmaker', 0.5965146422386169),\n",
       " ('moondragon', 0.5825124979019165),\n",
       " ('tiniest', 0.5819337368011475),\n",
       " ('greggery', 0.5709682106971741),\n",
       " ('tormented', 0.5678092241287231),\n",
       " ('trueblood', 0.5673208236694336),\n",
       " ('menosky', 0.5646350383758545),\n",
       " ('corkin', 0.5644245743751526),\n",
       " ('maginary', 0.5621699094772339),\n",
       " ('quixotic', 0.5620056390762329)]"
      ]
     },
     "execution_count": 157,
     "metadata": {},
     "output_type": "execute_result"
    }
   ],
   "source": [
    "wiki_model.nearest_neighbors(\"(\", k=10)"
   ]
  },
  {
   "cell_type": "code",
   "execution_count": 148,
   "metadata": {},
   "outputs": [
    {
     "data": {
      "text/plain": [
       "0.7301442042907917"
      ]
     },
     "execution_count": 148,
     "metadata": {},
     "output_type": "execute_result"
    }
   ],
   "source": [
    "wiki_model.similarity('gout', 'appetissant')"
   ]
  },
  {
   "cell_type": "code",
   "execution_count": 128,
   "metadata": {},
   "outputs": [
    {
     "data": {
      "text/plain": [
       "[('dracule', 0.5999324917793274)]"
      ]
     },
     "execution_count": 128,
     "metadata": {},
     "output_type": "execute_result"
    }
   ],
   "source": [
    "wiki_model.most_similar(positive=['prince', 'garcon'], negative=['fille'], k=1)"
   ]
  },
  {
   "cell_type": "code",
   "execution_count": 3,
   "metadata": {},
   "outputs": [
    {
     "ename": "ImportError",
     "evalue": "dlopen(/anaconda/lib/python3.5/site-packages/pyfasttext.cpython-35m-darwin.so, 2): Symbol not found: __ZNSt7__cxx1112basic_stringIcSt11char_traitsIcESaIcEED1Ev\n  Referenced from: /anaconda/lib/python3.5/site-packages/pyfasttext.cpython-35m-darwin.so\n  Expected in: flat namespace\n in /anaconda/lib/python3.5/site-packages/pyfasttext.cpython-35m-darwin.so",
     "traceback": [
      "\u001b[0;31m---------------------------------------------------------------------------\u001b[0m",
      "\u001b[0;31mImportError\u001b[0m                               Traceback (most recent call last)",
      "\u001b[0;32m<ipython-input-3-cc701303dbfe>\u001b[0m in \u001b[0;36m<module>\u001b[0;34m()\u001b[0m\n\u001b[0;32m----> 1\u001b[0;31m \u001b[0;32mimport\u001b[0m \u001b[0mpyfasttext\u001b[0m\u001b[0;34m\u001b[0m\u001b[0m\n\u001b[0m",
      "\u001b[0;31mImportError\u001b[0m: dlopen(/anaconda/lib/python3.5/site-packages/pyfasttext.cpython-35m-darwin.so, 2): Symbol not found: __ZNSt7__cxx1112basic_stringIcSt11char_traitsIcESaIcEED1Ev\n  Referenced from: /anaconda/lib/python3.5/site-packages/pyfasttext.cpython-35m-darwin.so\n  Expected in: flat namespace\n in /anaconda/lib/python3.5/site-packages/pyfasttext.cpython-35m-darwin.so"
     ],
     "output_type": "error"
    }
   ],
   "source": [
    "import pyfasttext"
   ]
  },
  {
   "cell_type": "code",
   "execution_count": 34,
   "metadata": {},
   "outputs": [],
   "source": [
    "def standardization(item):\n",
    "    # remove '\\n'\n",
    "    item=item.strip('\\n')\n",
    "    # remove ' '\n",
    "    item=item.strip()\n",
    "    # remove(bla bla)\n",
    "    item=re.sub(SLOT_REGEX, '', item)\n",
    "    # strip punctuation\n",
    "    item=item.translate(string.punctuation)\n",
    "    # supprime les espaces de debut / fin et doubles espaces\n",
    "    #item=\" \".join(item.split())\n",
    "\n",
    "    return item"
   ]
  },
  {
   "cell_type": "code",
   "execution_count": 55,
   "metadata": {},
   "outputs": [],
   "source": [
    "import re\n",
    "import string\n",
    "SLOT_REGEX=re.compile(r'(<.*?>|\\&[a-z]{2,4}sp\\;)')"
   ]
  },
  {
   "cell_type": "code",
   "execution_count": 58,
   "metadata": {},
   "outputs": [
    {
     "name": "stdout",
     "output_type": "stream",
     "text": [
      "Le prix est un peu élevé pour un repas, qui n'a pas nécessité toute une implication du début à la fin.. .\n"
     ]
    }
   ],
   "source": [
    "#sent=standardization(sent)\n",
    "\n",
    "print(sent.translate(string.punctuation))\n",
    "sptoks = fr_nlp(sent)"
   ]
  },
  {
   "cell_type": "code",
   "execution_count": 68,
   "metadata": {},
   "outputs": [
    {
     "name": "stdout",
     "output_type": "stream",
     "text": [
      "Si vous êtes en vacances  si vous avez –beaucoup  de temps à perdre tout en regardant les serveuses et serveurs  au demeurant charmants  virevolter comme des mouches ne sachant quoi faire ni pour qui faire  1 heure pour 3 côtelettes froides  et  le lendemain  ¾ d’heures pour 3 glaces jamais arrivées…     longue attente accompagnée par une musique horripilante  boum tchic  boum tchic  sans cesse  \n"
     ]
    }
   ],
   "source": [
    "sent=\"Si vous êtes en vacances, si vous avez –beaucoup- de temps à perdre tout en regardant les serveuses et serveurs (au demeurant charmants) virevolter comme des mouches ne sachant quoi faire ni pour qui faire (1 heure pour 3 côtelettes froides, et, le lendemain, ¾ d’heures pour 3 glaces jamais arrivées… !), longue attente accompagnée par une musique horripilante (boum tchic, boum tchic, sans cesse).\"\n",
    "\n",
    "import re\n",
    "sent = re.sub('['+string.punctuation+']', ' ', sent)\n",
    "print(sent)"
   ]
  },
  {
   "cell_type": "code",
   "execution_count": 69,
   "metadata": {},
   "outputs": [
    {
     "name": "stdout",
     "output_type": "stream",
     "text": [
      "Si vous êtes en vacances si vous avez –beaucoup de temps à perdre tout en regardant les serveuses et serveurs au demeurant charmants virevolter comme des mouches ne sachant quoi faire ni pour qui faire 1 heure pour 3 côtelettes froides et le lendemain ¾ d’heures pour 3 glaces jamais arrivées… longue attente accompagnée par une musique horripilante boum tchic boum tchic sans cesse\n"
     ]
    }
   ],
   "source": [
    "sent=\" \".join(sent.split())\n",
    "print(sent)"
   ]
  },
  {
   "cell_type": "code",
   "execution_count": 70,
   "metadata": {},
   "outputs": [
    {
     "name": "stdout",
     "output_type": "stream",
     "text": [
      "Si vous êtes en vacances si vous avez –beaucoup de temps à perdre tout en regardant les serveuses et serveurs au demeurant charmants virevolter comme des mouches ne sachant quoi faire ni pour qui faire 1 heure pour 3 côtelettes froides et le lendemain ¾ d’heures pour 3 glaces jamais arrivées… longue attente accompagnée par une musique horripilante boum tchic boum tchic sans cesse\n"
     ]
    }
   ],
   "source": [
    "print(fr_nlp(sent))"
   ]
  },
  {
   "cell_type": "code",
   "execution_count": 149,
   "metadata": {},
   "outputs": [
    {
     "name": "stdout",
     "output_type": "stream",
     "text": [
      "un\n",
      "début\n",
      "de\n",
      "soirée\n",
      "qui\n",
      "commence\n",
      "dans\n",
      "un\n",
      "bon\n",
      "resto\n",
      "comme\n",
      "les\n",
      "1er\n",
      "fois\n",
      "une\n",
      "virgin\n",
      "colada\n",
      "à\n",
      "6\n",
      "50e\n",
      "pour\n",
      "se\n",
      "mettre\n",
      "en\n",
      "appétit\n",
      "et\n",
      "un\n",
      "accueil\n",
      "toujours\n",
      "très\n",
      "chaleureux\n",
      "du\n",
      "patron\n",
      "et\n",
      "de\n",
      "sa\n",
      "femme\n"
     ]
    }
   ],
   "source": [
    "sent=\"Un début de soirée qui commence dans un bon resto, comme les 1er fois une Virgin Colada à 6.50e pour se mettre en appétit et un accueil toujours très chaleureux du patron et de sa femme!!!\"\n",
    "sent = re.sub('['+string.punctuation+']', ' ', sent)\n",
    "sent=\" \".join(sent.split())\n",
    "mots = fr_nlp(sent.lower())\n",
    "for mot in mots:\n",
    "    print(mot)"
   ]
  },
  {
   "cell_type": "code",
   "execution_count": null,
   "metadata": {},
   "outputs": [],
   "source": []
  }
 ],
 "metadata": {
  "kernelspec": {
   "display_name": "Python 3",
   "language": "python",
   "name": "python3"
  },
  "language_info": {
   "codemirror_mode": {
    "name": "ipython",
    "version": 3
   },
   "file_extension": ".py",
   "mimetype": "text/x-python",
   "name": "python",
   "nbconvert_exporter": "python",
   "pygments_lexer": "ipython3",
   "version": "3.6.3"
  }
 },
 "nbformat": 4,
 "nbformat_minor": 2
}
